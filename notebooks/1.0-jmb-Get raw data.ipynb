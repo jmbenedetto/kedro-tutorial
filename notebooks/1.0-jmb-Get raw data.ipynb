{
 "cells": [
  {
   "cell_type": "markdown",
   "id": "simple-pottery",
   "metadata": {},
   "source": [
    "# GOAL"
   ]
  },
  {
   "cell_type": "markdown",
   "id": "spare-privilege",
   "metadata": {},
   "source": [
    "# PACKAGES"
   ]
  },
  {
   "cell_type": "code",
   "execution_count": 2,
   "id": "mounted-armenia",
   "metadata": {},
   "outputs": [
    {
     "name": "stdout",
     "output_type": "stream",
     "text": [
      "Collecting wget\n",
      "  Downloading wget-3.2.zip (10 kB)\n",
      "Building wheels for collected packages: wget\n",
      "  Building wheel for wget (setup.py) ... \u001b[?25ldone\n",
      "\u001b[?25h  Created wheel for wget: filename=wget-3.2-py3-none-any.whl size=9680 sha256=d07ffce078f21f9805484d3320e74d734b623f08683d15b408770fba852bde60\n",
      "  Stored in directory: /home/jupyter/.cache/pip/wheels/bd/a8/c3/3cf2c14a1837a4e04bd98631724e81f33f462d86a1d895fae0\n",
      "Successfully built wget\n",
      "Installing collected packages: wget\n",
      "Successfully installed wget-3.2\n"
     ]
    }
   ],
   "source": [
    "!pip install wget"
   ]
  },
  {
   "cell_type": "code",
   "execution_count": 3,
   "id": "sharing-model",
   "metadata": {},
   "outputs": [],
   "source": [
    "import wget"
   ]
  },
  {
   "cell_type": "markdown",
   "id": "eastern-junior",
   "metadata": {},
   "source": [
    "# FUNCTIONS"
   ]
  },
  {
   "cell_type": "markdown",
   "id": "packed-argentina",
   "metadata": {},
   "source": [
    "# DATA WRANGLING"
   ]
  },
  {
   "cell_type": "code",
   "execution_count": 8,
   "id": "republican-leadership",
   "metadata": {},
   "outputs": [],
   "source": [
    "urls=['https://quantumblacklabs.github.io/kedro/reviews.csv',\n",
    "    'https://quantumblacklabs.github.io/kedro/companies.csv',\n",
    "      'https://quantumblacklabs.github.io/kedro/shuttles.xlsx']\n",
    "for url in urls:\n",
    "    wget.download(url,out='../data/01_raw/')"
   ]
  },
  {
   "cell_type": "code",
   "execution_count": null,
   "id": "logical-african",
   "metadata": {},
   "outputs": [],
   "source": []
  }
 ],
 "metadata": {
  "environment": {
   "name": "common-cpu.m65",
   "type": "gcloud",
   "uri": "gcr.io/deeplearning-platform-release/base-cpu:m65"
  },
  "kernelspec": {
   "display_name": "Python [conda env:kedro-tutorial]",
   "language": "python",
   "name": "conda-env-kedro-tutorial-py"
  },
  "language_info": {
   "codemirror_mode": {
    "name": "ipython",
    "version": 3
   },
   "file_extension": ".py",
   "mimetype": "text/x-python",
   "name": "python",
   "nbconvert_exporter": "python",
   "pygments_lexer": "ipython3",
   "version": "3.8.8"
  }
 },
 "nbformat": 4,
 "nbformat_minor": 5
}
